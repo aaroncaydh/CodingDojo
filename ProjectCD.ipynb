{
  "nbformat": 4,
  "nbformat_minor": 0,
  "metadata": {
    "colab": {
      "name": "ProjectCD.ipynb",
      "provenance": [],
      "collapsed_sections": [],
      "authorship_tag": "ABX9TyO2pwAvfal41+ETj1df9Eup",
      "include_colab_link": true
    },
    "kernelspec": {
      "name": "python3",
      "display_name": "Python 3"
    },
    "language_info": {
      "name": "python"
    }
  },
  "cells": [
    {
      "cell_type": "markdown",
      "metadata": {
        "id": "view-in-github",
        "colab_type": "text"
      },
      "source": [
        "<a href=\"https://colab.research.google.com/github/aaroncaydh/CodingDojo/blob/main/ProjectCD.ipynb\" target=\"_parent\"><img src=\"https://colab.research.google.com/assets/colab-badge.svg\" alt=\"Open In Colab\"/></a>"
      ]
    },
    {
      "cell_type": "markdown",
      "source": [
        "Aaron J Dokodzo..Project CD.. 05/25/22"
      ],
      "metadata": {
        "id": "OOOL10-ODMlW"
      }
    },
    {
      "cell_type": "code",
      "execution_count": 1,
      "metadata": {
        "id": "OQy3SMg96SwV",
        "colab": {
          "base_uri": "https://localhost:8080/"
        },
        "outputId": "79c5d751-eeac-45a5-93a3-7b59facb5e55"
      },
      "outputs": [
        {
          "output_type": "stream",
          "name": "stdout",
          "text": [
            "Mounted at /content/drive\n"
          ]
        }
      ],
      "source": [
        "from google.colab import drive\n",
        "drive.mount('/content/drive')"
      ]
    },
    {
      "cell_type": "code",
      "source": [
        "#Display the head of the dataframe.\n",
        "\n",
        "import pandas as pd\n",
        "import numpy as np\n",
        "\n",
        "filename = '/content/sales_predictions.csv'\n",
        "df = pd.read_csv(filename)\n",
        "df.head()"
      ],
      "metadata": {
        "id": "vGIMb3YC66-B"
      },
      "execution_count": null,
      "outputs": []
    },
    {
      "cell_type": "code",
      "source": [
        "df.shape #rows and columns"
      ],
      "metadata": {
        "id": "2tI7ACAG67Dh"
      },
      "execution_count": null,
      "outputs": []
    },
    {
      "cell_type": "code",
      "source": [
        "df.dtypes# datatypes of each variable"
      ],
      "metadata": {
        "id": "WJssjLUb67FZ"
      },
      "execution_count": null,
      "outputs": []
    },
    {
      "cell_type": "code",
      "source": [
        "df.duplicated().sum()#duplicates?"
      ],
      "metadata": {
        "id": "XIq4Pwqg67IW"
      },
      "execution_count": null,
      "outputs": []
    },
    {
      "cell_type": "code",
      "source": [
        "df.isna().sum()#missing values"
      ],
      "metadata": {
        "id": "GDkIEaTh67Kj"
      },
      "execution_count": null,
      "outputs": []
    },
    {
      "cell_type": "code",
      "source": [
        "df.dropna(subset=['Outlet_Size'], inplace=True)#address the missing values \n",
        "df.dropna(subset=['Item_Weight'], inplace=True)#address missing values\n",
        "df.isna().sum()"
      ],
      "metadata": {
        "id": "9_cfPYhm67Mq"
      },
      "execution_count": null,
      "outputs": []
    },
    {
      "cell_type": "code",
      "source": [
        "df.head()#checking for missing values dropped"
      ],
      "metadata": {
        "id": "W1RpJ0Kq67Pl"
      },
      "execution_count": null,
      "outputs": []
    },
    {
      "cell_type": "code",
      "source": [
        "df.describe().T#summary statistics"
      ],
      "metadata": {
        "id": "CcMIGFCk67Rs"
      },
      "execution_count": null,
      "outputs": []
    },
    {
      "cell_type": "code",
      "source": [
        ""
      ],
      "metadata": {
        "id": "7mTILg7p67Ue"
      },
      "execution_count": null,
      "outputs": []
    },
    {
      "cell_type": "code",
      "source": [
        ""
      ],
      "metadata": {
        "id": "5poRsGKL67Wk"
      },
      "execution_count": null,
      "outputs": []
    },
    {
      "cell_type": "code",
      "source": [
        ""
      ],
      "metadata": {
        "id": "5UmFyAo-67Yy"
      },
      "execution_count": null,
      "outputs": []
    },
    {
      "cell_type": "code",
      "source": [
        ""
      ],
      "metadata": {
        "id": "n04Y8bQC67bI"
      },
      "execution_count": null,
      "outputs": []
    }
  ]
}